{
 "cells": [
  {
   "cell_type": "markdown",
   "metadata": {},
   "source": [
    "At the begining let's install scraping package and parser.\n",
    "Import nessesary libraries."
   ]
  },
  {
   "cell_type": "code",
   "execution_count": 1,
   "metadata": {},
   "outputs": [
    {
     "name": "stdout",
     "output_type": "stream",
     "text": [
      "Requirement already satisfied: beautifulsoup4 in /home/inesterova/anaconda3/lib/python3.6/site-packages (4.6.0)\n",
      "Requirement already satisfied: lxml in /home/inesterova/anaconda3/lib/python3.6/site-packages (4.2.1)\n"
     ]
    }
   ],
   "source": [
    "!pip install beautifulsoup4\n",
    "!pip install lxml"
   ]
  },
  {
   "cell_type": "code",
   "execution_count": 2,
   "metadata": {},
   "outputs": [],
   "source": [
    "from bs4 import BeautifulSoup\n",
    "import requests\n",
    "import csv\n",
    "import pandas as pd"
   ]
  },
  {
   "cell_type": "markdown",
   "metadata": {},
   "source": [
    "Create csv file and start the scraping/parsing process."
   ]
  },
  {
   "cell_type": "code",
   "execution_count": 3,
   "metadata": {},
   "outputs": [],
   "source": [
    "csv_wiki_table = open('csv_wiki_table.csv', 'w') #open the csv file for editing \n",
    "csv_writer = csv.writer(csv_wiki_table)\n",
    "csv_writer.writerow(['PostalCode', 'Borough', 'Neighborhood']) #create head row\n",
    "\n",
    "wiki_page = requests.get(' https://en.wikipedia.org/wiki/List_of_postal_codes_of_Canada:_M').text\n",
    "soup = BeautifulSoup(wiki_page, 'lxml') #parse the page"
   ]
  },
  {
   "cell_type": "markdown",
   "metadata": {},
   "source": [
    " Use print(soup.prettify()) to show the html file in structured view."
   ]
  },
  {
   "cell_type": "markdown",
   "metadata": {},
   "source": [
    "Cut the needed table from the file and write the needed data to the csv file."
   ]
  },
  {
   "cell_type": "code",
   "execution_count": 4,
   "metadata": {},
   "outputs": [],
   "source": [
    "wiki_table = soup.find('table', class_ = 'wikitable sortable')"
   ]
  },
  {
   "cell_type": "code",
   "execution_count": 5,
   "metadata": {},
   "outputs": [],
   "source": [
    "for row in wiki_table.find_all('tr'):\n",
    "    list_item = []\n",
    "    for item in row.find_all('td'):\n",
    "        list_item.append(item.text)\n",
    "    csv_writer.writerow(list_item)\n"
   ]
  },
  {
   "cell_type": "code",
   "execution_count": 6,
   "metadata": {},
   "outputs": [],
   "source": [
    "csv_wiki_table.close()"
   ]
  },
  {
   "cell_type": "markdown",
   "metadata": {},
   "source": [
    "Import csv file to pandas and clear the data for futher analysis."
   ]
  },
  {
   "cell_type": "code",
   "execution_count": 7,
   "metadata": {},
   "outputs": [
    {
     "name": "stdout",
     "output_type": "stream",
     "text": [
      "  PostalCode           Borough      Neighborhood\n",
      "0        M1A      Not assigned      Not assigned\n",
      "1        M2A      Not assigned      Not assigned\n",
      "2        M3A        North York         Parkwoods\n",
      "3        M4A        North York  Victoria Village\n",
      "4        M5A  Downtown Toronto      Harbourfront\n"
     ]
    }
   ],
   "source": [
    "pd_wiki = pd.read_csv('csv_wiki_table.csv')\n",
    "pd_wiki['Neighborhood'] = pd_wiki['Neighborhood'].map(lambda x: x.replace('\\n', '')) #remove /n\n",
    "print(pd_wiki.head())"
   ]
  },
  {
   "cell_type": "code",
   "execution_count": 8,
   "metadata": {},
   "outputs": [
    {
     "data": {
      "text/html": [
       "<div>\n",
       "<style scoped>\n",
       "    .dataframe tbody tr th:only-of-type {\n",
       "        vertical-align: middle;\n",
       "    }\n",
       "\n",
       "    .dataframe tbody tr th {\n",
       "        vertical-align: top;\n",
       "    }\n",
       "\n",
       "    .dataframe thead th {\n",
       "        text-align: right;\n",
       "    }\n",
       "</style>\n",
       "<table border=\"1\" class=\"dataframe\">\n",
       "  <thead>\n",
       "    <tr style=\"text-align: right;\">\n",
       "      <th></th>\n",
       "      <th>PostalCode</th>\n",
       "      <th>Borough</th>\n",
       "      <th>Neighborhood</th>\n",
       "    </tr>\n",
       "  </thead>\n",
       "  <tbody>\n",
       "    <tr>\n",
       "      <th>0</th>\n",
       "      <td>M1B</td>\n",
       "      <td>Scarborough</td>\n",
       "      <td>Rouge,Malvern</td>\n",
       "    </tr>\n",
       "    <tr>\n",
       "      <th>1</th>\n",
       "      <td>M1C</td>\n",
       "      <td>Scarborough</td>\n",
       "      <td>Highland Creek,Rouge Hill,Port Union</td>\n",
       "    </tr>\n",
       "    <tr>\n",
       "      <th>2</th>\n",
       "      <td>M1E</td>\n",
       "      <td>Scarborough</td>\n",
       "      <td>Guildwood,Morningside,West Hill</td>\n",
       "    </tr>\n",
       "    <tr>\n",
       "      <th>3</th>\n",
       "      <td>M1G</td>\n",
       "      <td>Scarborough</td>\n",
       "      <td>Woburn</td>\n",
       "    </tr>\n",
       "    <tr>\n",
       "      <th>4</th>\n",
       "      <td>M1H</td>\n",
       "      <td>Scarborough</td>\n",
       "      <td>Cedarbrae</td>\n",
       "    </tr>\n",
       "  </tbody>\n",
       "</table>\n",
       "</div>"
      ],
      "text/plain": [
       "  PostalCode      Borough                          Neighborhood\n",
       "0        M1B  Scarborough                         Rouge,Malvern\n",
       "1        M1C  Scarborough  Highland Creek,Rouge Hill,Port Union\n",
       "2        M1E  Scarborough       Guildwood,Morningside,West Hill\n",
       "3        M1G  Scarborough                                Woburn\n",
       "4        M1H  Scarborough                             Cedarbrae"
      ]
     },
     "execution_count": 8,
     "metadata": {},
     "output_type": "execute_result"
    }
   ],
   "source": [
    "pd_wiki = pd_wiki[pd_wiki['Borough'] != 'Not assigned'] #remove NA Boroughs\n",
    "pd_wiki.loc[pd_wiki['Neighborhood'] == 'Not assigned', \"Neighborhood\"] = pd_wiki['Borough'] #replace NA Neighb\n",
    "wiki_df = pd_wiki.groupby(['PostalCode', 'Borough'])['Neighborhood'].apply(','.join).reset_index()\n",
    "wiki_df.head()"
   ]
  },
  {
   "cell_type": "markdown",
   "metadata": {},
   "source": [
    "Export pandas dataframe to csv file to use it in another notebook."
   ]
  },
  {
   "cell_type": "code",
   "execution_count": 9,
   "metadata": {},
   "outputs": [],
   "source": [
    "wiki_df.to_csv('wiki_df.csv', index = False)"
   ]
  },
  {
   "cell_type": "code",
   "execution_count": 10,
   "metadata": {},
   "outputs": [
    {
     "data": {
      "text/plain": [
       "(103, 3)"
      ]
     },
     "execution_count": 10,
     "metadata": {},
     "output_type": "execute_result"
    }
   ],
   "source": [
    "wiki_df.shape"
   ]
  }
 ],
 "metadata": {
  "kernelspec": {
   "display_name": "Python 3",
   "language": "python",
   "name": "python3"
  },
  "language_info": {
   "codemirror_mode": {
    "name": "ipython",
    "version": 3
   },
   "file_extension": ".py",
   "mimetype": "text/x-python",
   "name": "python",
   "nbconvert_exporter": "python",
   "pygments_lexer": "ipython3",
   "version": "3.6.5"
  }
 },
 "nbformat": 4,
 "nbformat_minor": 2
}
